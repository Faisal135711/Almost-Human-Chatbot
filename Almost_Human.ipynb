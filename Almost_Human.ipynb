{
  "nbformat": 4,
  "nbformat_minor": 0,
  "metadata": {
    "colab": {
      "name": "Almost Human.ipynb",
      "provenance": []
    },
    "kernelspec": {
      "name": "python3",
      "display_name": "Python 3"
    }
  },
  "cells": [
    {
      "cell_type": "code",
      "metadata": {
        "id": "Hvm76ET3bZsu",
        "colab_type": "code",
        "colab": {
          "base_uri": "https://localhost:8080/",
          "height": 71
        },
        "outputId": "f1569d48-7d6c-49ed-ac81-d62db36670f1"
      },
      "source": [
        "!pip install nltk"
      ],
      "execution_count": 1,
      "outputs": [
        {
          "output_type": "stream",
          "text": [
            "Requirement already satisfied: nltk in /usr/local/lib/python3.6/dist-packages (3.2.5)\n",
            "Requirement already satisfied: six in /usr/local/lib/python3.6/dist-packages (from nltk) (1.15.0)\n"
          ],
          "name": "stdout"
        }
      ]
    },
    {
      "cell_type": "code",
      "metadata": {
        "id": "4zLyY1UvbopF",
        "colab_type": "code",
        "colab": {}
      },
      "source": [
        "import torch\n",
        "import numpy as np\n",
        "import nltk\n",
        "from nltk.stem.porter import PorterStemmer"
      ],
      "execution_count": 3,
      "outputs": []
    },
    {
      "cell_type": "code",
      "metadata": {
        "id": "rKYXX0dkbmJj",
        "colab_type": "code",
        "colab": {
          "base_uri": "https://localhost:8080/",
          "height": 68
        },
        "outputId": "7821879c-d81f-4973-b263-d2aa86f94b09"
      },
      "source": [
        "nltk.download('punkt')"
      ],
      "execution_count": 4,
      "outputs": [
        {
          "output_type": "stream",
          "text": [
            "[nltk_data] Downloading package punkt to /root/nltk_data...\n",
            "[nltk_data]   Unzipping tokenizers/punkt.zip.\n"
          ],
          "name": "stdout"
        },
        {
          "output_type": "execute_result",
          "data": {
            "text/plain": [
              "True"
            ]
          },
          "metadata": {
            "tags": []
          },
          "execution_count": 4
        }
      ]
    },
    {
      "cell_type": "code",
      "metadata": {
        "id": "OnI6Vkqnc6Hz",
        "colab_type": "code",
        "colab": {
          "base_uri": "https://localhost:8080/",
          "height": 187
        },
        "outputId": "946e5dd7-ebae-428e-d0a0-ef1c8b4ba973"
      },
      "source": [
        "!python nlp_utils.py\n",
        "!python model.py\n",
        "!python train.py"
      ],
      "execution_count": 12,
      "outputs": [
        {
          "output_type": "stream",
          "text": [
            "Epoch [100/800], Loss: 1.0008\n",
            "Epoch [200/800], Loss: 0.2608\n",
            "Epoch [300/800], Loss: 0.0136\n",
            "Epoch [400/800], Loss: 0.0056\n",
            "Epoch [500/800], Loss: 0.0046\n",
            "Epoch [600/800], Loss: 0.0014\n",
            "Epoch [700/800], Loss: 0.0024\n",
            "Epoch [800/800], Loss: 0.0009\n",
            "final loss: 0.0009\n",
            "training complete. file saved to data.pth\n"
          ],
          "name": "stdout"
        }
      ]
    },
    {
      "cell_type": "code",
      "metadata": {
        "id": "RQeK5z_Xbw6n",
        "colab_type": "code",
        "colab": {
          "base_uri": "https://localhost:8080/",
          "height": 289
        },
        "outputId": "da43d651-47c6-48e3-c8c3-53f6ceebca9f"
      },
      "source": [
        "#main\n",
        "\n",
        "import random\n",
        "import json\n",
        "import torch\n",
        "\n",
        "from model import NeuralNet\n",
        "from nlp_utils import tokenize, bag_of_words\n",
        "\n",
        "device = torch.device('cuda' if torch.cuda.is_available() else 'cpu')\n",
        "\n",
        "with open('intents.json', 'r') as f:\n",
        "  intents = json.load(f)\n",
        "\n",
        "FILE = 'data.pth'\n",
        "data = torch.load(FILE)\n",
        "\n",
        "input_size = data['input_size']\n",
        "output_size = data['output_size']\n",
        "hidden_size = data['hidden_size']\n",
        "all_words = data['all_words']\n",
        "tags = data['tags']\n",
        "model_state = data['model_state']\n",
        "\n",
        "model = NeuralNet(input_size, hidden_size, output_size).to(device)\n",
        "model.load_state_dict(model_state)\n",
        "model.eval()\n",
        "\n",
        "bot_name = 'Almost Human'\n",
        "print(\"Let's chat! (type 'quit' to exit)\")\n",
        "while True:\n",
        "  sentence = input('You: ')\n",
        "\n",
        "  if(sentence == 'quit'):\n",
        "    break\n",
        "  \n",
        "  sentence = tokenize(sentence)\n",
        "  X = bag_of_words(sentence, all_words)\n",
        "  X = X.reshape(1, X.shape[0])\n",
        "  X = torch.from_numpy(X)\n",
        "\n",
        "  output = model(X)\n",
        "  _, predicted = torch.max(output, dim=1)\n",
        "  tag = tags[predicted.item()]\n",
        "\n",
        "  probs = torch.softmax(output, dim=1)\n",
        "  prob = probs[0][predicted.item()]\n",
        "\n",
        "  if(prob > 0.75):\n",
        "    for intent in intents['intents']:\n",
        "      if(tag == intent['tag']):\n",
        "        print(f\"{bot_name}: {random.choice(intent['responses'])}\")\n",
        "  else:\n",
        "    print(f\"{bot_name}: Sorry, I don't understand....\")\n",
        "\n"
      ],
      "execution_count": 16,
      "outputs": [
        {
          "output_type": "stream",
          "text": [
            "Let's chat! (type 'quit' to exit)\n",
            "You: Hi\n",
            "Almost Human: Hi there, how can I help?\n",
            "You: Hi\n",
            "Almost Human: Hi there, what can I do for you?\n",
            "You: What do you sell ?\n",
            "Almost Human: We have coffee and tea\n",
            "You: How long takes shipping ?\n",
            "Almost Human: Delivery takes 2-4 days\n",
            "You: Can you help me ?\n",
            "Almost Human: Sorry, I don't understand....\n",
            "You: Crack a joke\n",
            "Almost Human: What did the buffalo say when his son left for college? Bison.\n",
            "You: Bye\n",
            "Almost Human: Have a nice day\n",
            "You: quit\n"
          ],
          "name": "stdout"
        }
      ]
    },
    {
      "cell_type": "code",
      "metadata": {
        "id": "ENPjH0rkcU2c",
        "colab_type": "code",
        "colab": {}
      },
      "source": [
        ""
      ],
      "execution_count": null,
      "outputs": []
    }
  ]
}